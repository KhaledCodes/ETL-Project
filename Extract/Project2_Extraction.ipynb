{
 "cells": [
  {
   "cell_type": "code",
   "execution_count": 1,
   "metadata": {},
   "outputs": [],
   "source": [
    "import pandas as pd"
   ]
  },
  {
   "cell_type": "code",
   "execution_count": 2,
   "metadata": {},
   "outputs": [],
   "source": [
    "# Extracting all CSVs to Dataframes\n",
    "Canada=pd.read_csv('youtube-new/CAvideos.csv')\n",
    "Denmark=pd.read_csv('youtube-new/DEvideos.csv')\n",
    "France=pd.read_csv('youtube-new/FRvideos.csv')\n",
    "GreatBritain=pd.read_csv('youtube-new/GBvideos.csv')\n",
    "India=pd.read_csv('youtube-new/INvideos.csv')\n",
    "Japan=pd.read_csv('youtube-new/JPvideos.csv',encoding=\"ISO-8859-1\")\n",
    "Korea=pd.read_csv('youtube-new/KRvideos.csv',encoding=\"ISO-8859-1\")\n",
    "Mexico=pd.read_csv('youtube-new/MXvideos.csv',encoding=\"ISO-8859-1\")\n",
    "Russia=pd.read_csv('youtube-new/RUvideos.csv',encoding=\"ISO-8859-1\")\n",
    "USA=pd.read_csv('youtube-new/USvideos.csv')"
   ]
  },
  {
   "cell_type": "code",
   "execution_count": 3,
   "metadata": {},
   "outputs": [],
   "source": [
    "# Extracting all JSONs into Dataframes\n",
    "CaJSON=pd.read_json('youtube-new/CA_category_id.json')\n",
    "DeJSON=pd.read_json('youtube-new/DE_category_id.json')\n",
    "FrJSON=pd.read_json('youtube-new/FR_category_id.json')\n",
    "GbJSON=pd.read_json('youtube-new/GB_category_id.json')\n",
    "InJSON=pd.read_json('youtube-new/IN_category_id.json')\n",
    "JpJSON=pd.read_json('youtube-new/JP_category_id.json')\n",
    "KrJSON=pd.read_json('youtube-new/KR_category_id.json')\n",
    "MxJSON=pd.read_json('youtube-new/MX_category_id.json')\n",
    "RuJSON=pd.read_json('youtube-new/RU_category_id.json')\n",
    "UsJSON=pd.read_json('youtube-new/US_category_id.json')"
   ]
  },
  {
   "cell_type": "code",
   "execution_count": 4,
   "metadata": {},
   "outputs": [
    {
     "data": {
      "text/plain": [
       "'Music'"
      ]
     },
     "execution_count": 4,
     "metadata": {},
     "output_type": "execute_result"
    }
   ],
   "source": [
    "CaJSON['items'][2]['snippet']['title']"
   ]
  },
  {
   "cell_type": "code",
   "execution_count": 5,
   "metadata": {},
   "outputs": [
    {
     "name": "stdout",
     "output_type": "stream",
     "text": [
      "44\n"
     ]
    }
   ],
   "source": [
    "if(CaJSON['items'][30]['id']==str(44)):\n",
    "    print(CaJSON['items'][30]['id'])"
   ]
  },
  {
   "cell_type": "code",
   "execution_count": 44,
   "metadata": {},
   "outputs": [],
   "source": [
    "CSVs=[Canada,Denmark,France,GreatBritain,India,Japan,Korea,Mexico,Russia,USA]\n",
    "CSVnames=['Canada','Denmark','France','GreatBritain','India','Japan','Korea','Mexico','Russia','USA']\n",
    "JSONs=[CaJSON,DeJSON,FrJSON,GbJSON,InJSON,JpJSON,KrJSON,MxJSON,RuJSON,UsJSON]"
   ]
  },
  {
   "cell_type": "code",
   "execution_count": 7,
   "metadata": {},
   "outputs": [],
   "source": [
    "for a in CSVs:\n",
    "    a['Group']=''"
   ]
  },
  {
   "cell_type": "code",
   "execution_count": null,
   "metadata": {},
   "outputs": [],
   "source": [
    "for b in range(len(CSVs)):\n",
    "    for row in range(len(CSVs[b])):\n",
    "        for i in range(len(JSONs[b])):\n",
    "            if (str((CSVs[b]).loc[row,'category_id'])==(JSONs[b])['items'][i]['id']):\n",
    "                (CSVs[b]).set_value(row,('Group'),((JSONs[b])['items'][i]['snippet']['title']))"
   ]
  },
  {
   "cell_type": "code",
   "execution_count": 8,
   "metadata": {},
   "outputs": [],
   "source": [
    "for j in range(len(CSVs)):\n",
    "    CSVs[j].name=CSVnames[j]"
   ]
  },
  {
   "cell_type": "code",
   "execution_count": 9,
   "metadata": {},
   "outputs": [],
   "source": [
    "for k in CSVs:\n",
    "    k.to_csv(f\"New CSVs/{str(k.name)}_DF.csv\")"
   ]
  },
  {
   "cell_type": "code",
   "execution_count": 16,
   "metadata": {},
   "outputs": [],
   "source": [
    "from splinter import Browser\n",
    "import time\n",
    "from bs4 import BeautifulSoup as bs"
   ]
  },
  {
   "cell_type": "code",
   "execution_count": 19,
   "metadata": {},
   "outputs": [],
   "source": [
    "from selenium import webdriver\n",
    "from selenium.webdriver.common.keys import Keys"
   ]
  },
  {
   "cell_type": "code",
   "execution_count": null,
   "metadata": {},
   "outputs": [],
   "source": [
    "Canada.head()"
   ]
  },
  {
   "cell_type": "code",
   "execution_count": 50,
   "metadata": {},
   "outputs": [],
   "source": [
    "from selenium import webdriver\n",
    "from selenium.webdriver.common.keys import Keys\n",
    "comments=[]\n",
    "\n",
    "for m in range(100):\n",
    "    url=f\"https://www.youtube.com/watch?v={Canada.loc[m,'video_id']}\"\n",
    "    driver = webdriver.Chrome(\"chromedriver.exe\")\n",
    "    driver.get(url)\n",
    "    try:\n",
    "        time.sleep(2)\n",
    "        driver.find_element_by_tag_name('body').send_keys(Keys.PAGE_DOWN)\n",
    "        time.sleep(2)\n",
    "        html = driver.page_source\n",
    "        soup = bs(html, 'html.parser')\n",
    "        comment = soup.find_all('yt-formatted-string', class_=\"style-scope ytd-comment-renderer\", id=\"content-text\",slot='content')\n",
    "        comments.append(comment[0].text)\n",
    "    except:\n",
    "        pass"
   ]
  },
  {
   "cell_type": "code",
   "execution_count": 52,
   "metadata": {},
   "outputs": [],
   "source": [
    "cmt=pd.DataFrame(comments)"
   ]
  },
  {
   "cell_type": "code",
   "execution_count": 55,
   "metadata": {},
   "outputs": [],
   "source": [
    "cmt.to_csv(\"comments.csv\")"
   ]
  },
  {
   "cell_type": "code",
   "execution_count": null,
   "metadata": {},
   "outputs": [],
   "source": []
  }
 ],
 "metadata": {
  "kernelspec": {
   "display_name": "Python 3",
   "language": "python",
   "name": "python3"
  },
  "language_info": {
   "codemirror_mode": {
    "name": "ipython",
    "version": 3
   },
   "file_extension": ".py",
   "mimetype": "text/x-python",
   "name": "python",
   "nbconvert_exporter": "python",
   "pygments_lexer": "ipython3",
   "version": "3.7.3"
  }
 },
 "nbformat": 4,
 "nbformat_minor": 2
}
